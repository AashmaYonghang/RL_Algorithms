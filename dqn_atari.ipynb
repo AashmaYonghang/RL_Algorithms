{
  "cells": [
    {
      "cell_type": "code",
      "execution_count": null,
      "metadata": {
        "colab": {
          "base_uri": "https://localhost:8080/"
        },
        "id": "jYSTQLo5qOoK",
        "outputId": "50acc6a5-d4f1-4d2a-8a87-adb23e5e2f6d"
      },
      "outputs": [
        {
          "name": "stdout",
          "output_type": "stream",
          "text": [
            "TensorFlow 1.x selected.\n",
            "Selecting previously unselected package xvfb.\n",
            "(Reading database ... 155229 files and directories currently installed.)\n",
            "Preparing to unpack .../xvfb_2%3a1.19.6-1ubuntu4.10_amd64.deb ...\n",
            "Unpacking xvfb (2:1.19.6-1ubuntu4.10) ...\n",
            "Setting up xvfb (2:1.19.6-1ubuntu4.10) ...\n",
            "Processing triggers for man-db (2.8.3-2ubuntu0.1) ...\n",
            "Starting virtual X frame buffer: Xvfb.\n"
          ]
        }
      ],
      "source": [
        "import sys, os\n",
        "if 'google.colab' in sys.modules:\n",
        "    %tensorflow_version 1.x\n",
        "    \n",
        "    if not os.path.exists('.setup_complete'):\n",
        "        !wget -q https://raw.githubusercontent.com/yandexdataschool/Practical_RL/master/setup_colab.sh -O- | bash\n",
        "\n",
        "        !wget -q https://raw.githubusercontent.com/yandexdataschool/Practical_RL/coursera/grading.py -O ../grading.py\n",
        "        !wget -q https://raw.githubusercontent.com/yandexdataschool/Practical_RL/coursera/week4_approx/submit.py\n",
        "        !wget -q https://raw.githubusercontent.com/yandexdataschool/Practical_RL/coursera/week4_approx/framebuffer.py\n",
        "        !wget -q https://raw.githubusercontent.com/yandexdataschool/Practical_RL/coursera/week4_approx/replay_buffer.py\n",
        "\n",
        "        !touch .setup_complete\n",
        "\n",
        "# This code creates a virtual display to draw game images on.\n",
        "# It will have no effect if your machine has a monitor.\n",
        "if type(os.environ.get(\"DISPLAY\")) is not str or len(os.environ.get(\"DISPLAY\")) == 0:\n",
        "    !bash ../xvfb start\n",
        "    os.environ['DISPLAY'] = ':1'"
      ]
    },
    {
      "cell_type": "code",
      "execution_count": null,
      "metadata": {
        "id": "AO1zB24JNixx"
      },
      "outputs": [],
      "source": [
        "%tensorflow_version 1.x"
      ]
    },
    {
      "cell_type": "code",
      "execution_count": null,
      "metadata": {
        "id": "g-jhwRXmOD23"
      },
      "outputs": [],
      "source": [
        "import tensorflow"
      ]
    },
    {
      "cell_type": "code",
      "execution_count": null,
      "metadata": {
        "colab": {
          "base_uri": "https://localhost:8080/"
        },
        "id": "IPqj0_oWNYRc",
        "outputId": "67e8b2b9-5ffd-4df1-ca25-c81b968acf31"
      },
      "outputs": [
        {
          "name": "stdout",
          "output_type": "stream",
          "text": [
            "1.15.2\n"
          ]
        }
      ],
      "source": [
        "print(tensorflow.__version__)"
      ]
    },
    {
      "cell_type": "code",
      "execution_count": null,
      "metadata": {
        "id": "VmpgmcB4qR6-"
      },
      "outputs": [],
      "source": [
        "import gym\n",
        "import numpy as np\n",
        "import pandas as pd\n",
        "import matplotlib.pyplot as plt\n",
        "%matplotlib inline"
      ]
    },
    {
      "cell_type": "markdown",
      "metadata": {
        "id": "OFIsQJ9VptAs"
      },
      "source": [
        "### Processing game image \n",
        "\n",
        "Raw Atari images are large, 210x160x3 by default. However, we don't need that level of detail in order to learn them.\n",
        "\n",
        "We can thus save a lot of time by preprocessing game image, including\n",
        "* Resizing to a smaller shape, 64 x 64\n",
        "* Converting to grayscale\n",
        "* Cropping irrelevant image parts (top & bottom)"
      ]
    },
    {
      "cell_type": "code",
      "execution_count": null,
      "metadata": {
        "id": "A8GoCd6DqVAL"
      },
      "outputs": [],
      "source": [
        "from gym.core import ObservationWrapper\n",
        "from gym.spaces import Box\n",
        "import cv2"
      ]
    },
    {
      "cell_type": "markdown",
      "metadata": {
        "id": "ZfwJ24e95XYB"
      },
      "source": [
        "###ObservationWrapper \n",
        "ObservationWrapper is a class and inheriting from this class allows to create class that has method called observation that overrides the observation() in ObservationWrapper and this function returns observation. So, we can customize the observation or state returned by environment using this class as a parent class."
      ]
    },
    {
      "cell_type": "code",
      "execution_count": null,
      "metadata": {
        "id": "fopA6jOorBl2"
      },
      "outputs": [],
      "source": [
        "from gym.core import ObservationWrapper\n",
        "from gym.spaces import Box\n",
        "\n",
        "import cv2\n",
        "\n",
        "\n",
        "class PreprocessAtari(ObservationWrapper):#this class inherits from observationwrapper\n",
        "    def __init__(self, env):\n",
        "        \"\"\"A gym wrapper that crops, scales image into the desired shapes and optionally grayscales it.\"\"\"\n",
        "        ObservationWrapper.__init__(self, env)\n",
        "\n",
        "        self.img_size = (64, 64)\n",
        "        self.observation_space = Box(0.0, 1.0, (self.img_size[0], self.img_size[1], 1)) #Box() is creating continuous observation space from 0.0 to 1.0 with shape of (img_size[0], img_size[1], 1)\n",
        "\n",
        "    def observation(self, img):\n",
        "      \"\"\"what happens to each observation\"\"\"\n",
        "\n",
        "      # Here's what you need to do:\n",
        "      #  * Crop image, remove irrelevant parts.\n",
        "      #  * Resize image to self.img_size. Use cv2.resize or any other library you want,\n",
        "      #    e.g. PIL or Keras. Do not use skimage.transform.resize because it is roughly\n",
        "      #    6x slower than cv2.resize.\n",
        "      #  * Cast image to grayscale.\n",
        "      #  * Convert image pixels to (0, 1) range, float32 type.\n",
        "\n",
        "      #  Crop image\n",
        "      img = img[34:-16, :, :]\n",
        "\n",
        "      #  Resize image\n",
        "      img = cv2.resize(img, self.img_size)\n",
        "\n",
        "      #  Gray scale\n",
        "      img = img.mean(-1, keepdims=True)\n",
        "\n",
        "      #  Normalize\n",
        "      img = img.astype('float32')/255.\n",
        "      return img"
      ]
    },
    {
      "cell_type": "code",
      "execution_count": null,
      "metadata": {
        "id": "UBzJjDRR8BEC"
      },
      "outputs": [],
      "source": [
        "import gym"
      ]
    },
    {
      "cell_type": "code",
      "execution_count": null,
      "metadata": {
        "id": "M4F8y3i-8YZg"
      },
      "outputs": [],
      "source": [
        "env = gym.make(\"BreakoutDeterministic-v0\")\n",
        "env = PreprocessAtari(env)"
      ]
    },
    {
      "cell_type": "code",
      "execution_count": null,
      "metadata": {
        "id": "4EbLCZkp8iCw"
      },
      "outputs": [],
      "source": [
        "observation_shape = env.observation_space.shape\n",
        "n_actions = env.action_space.n\n",
        "obs = env.reset()"
      ]
    },
    {
      "cell_type": "markdown",
      "metadata": {
        "id": "G1AJOVxw9LHI"
      },
      "source": [
        "###Test observation"
      ]
    },
    {
      "cell_type": "code",
      "execution_count": null,
      "metadata": {
        "id": "o8xlMqJW898E"
      },
      "outputs": [],
      "source": [
        "assert obs.ndim == 3, \"observation must be [height, width, channels] even if there's just one channel\"\n",
        "assert obs.shape == observation_shape\n",
        "assert obs.dtype == 'float32'\n",
        "assert len(np.unique(obs)) > 2, \"your image must not be binary\"\n",
        "assert 0 <= np.min(obs) and np.max(obs) <= 1, \"convert image pixels to (0,1) range\"\n",
        "assert np.max(obs) >= 0.5, \"It would be easier to see a brighter observation\"\n",
        "assert np.mean(obs) >= 0.1, \"It would be easier to see a brighter observation\""
      ]
    },
    {
      "cell_type": "code",
      "execution_count": null,
      "metadata": {
        "colab": {
          "base_uri": "https://localhost:8080/",
          "height": 316
        },
        "id": "vf0xaTIu9VJQ",
        "outputId": "db79b765-6aac-405c-c1c5-f16e7b264a8b"
      },
      "outputs": [
        {
          "name": "stdout",
          "output_type": "stream",
          "text": [
            "Formal tests seem fine. Here's an example of what you'll get.\n"
          ]
        },
        {
          "data": {
            "text/plain": [
              "<matplotlib.image.AxesImage at 0x7efca6fbec10>"
            ]
          },
          "execution_count": 12,
          "metadata": {},
          "output_type": "execute_result"
        },
        {
          "data": {
            "image/png": "[encoded data removed]",
            "text/plain": [
              "<Figure size 432x288 with 1 Axes>"
            ]
          },
          "metadata": {},
          "output_type": "display_data"
        }
      ],
      "source": [
        "print(\"Formal tests seem fine. Here's an example of what you'll get.\")\n",
        "plt.title(\"what your network gonna see\")\n",
        "plt.imshow(obs[:, :, 0], interpolation='none', cmap='gray')"
      ]
    },
    {
      "cell_type": "markdown",
      "metadata": {
        "id": "iTpxKmFO-PCY"
      },
      "source": [
        "### Frame buffer\n",
        "\n",
        "Our agent can only process one observation at a time, so we gotta make sure it contains enough information to fing optimal actions. For instance, agent has to react to moving objects so he must be able to measure object's velocity.\n",
        "\n",
        "To do so, we introduce a buffer that stores 4 last images. This time everything is pre-implemented for you."
      ]
    },
    {
      "cell_type": "code",
      "execution_count": null,
      "metadata": {
        "id": "bKSdLTTX9gYY"
      },
      "outputs": [],
      "source": [
        "from framebuffer import FrameBuffer"
      ]
    },
    {
      "cell_type": "markdown",
      "metadata": {
        "id": "7aQHZw7o-vUG"
      },
      "source": [
        "###FrameBuffer\n",
        "Wraps the environment to allow a modular transformation.\n",
        "\n",
        "This class is the base class for all wrappers. The subclass could override\n",
        "some methods to change the behavior of the original environment without touching the\n",
        "original code."
      ]
    },
    {
      "cell_type": "code",
      "execution_count": null,
      "metadata": {
        "id": "OHybJvsn-UbF"
      },
      "outputs": [],
      "source": [
        "def make_env():\n",
        "  env = gym.make(\"BreakoutNoFrameskip-v4\")\n",
        "  env = PreprocessAtari(env)\n",
        "  env = FrameBuffer(env,n_frames = 4, dim_order='tensorflow')\n",
        "  return env\n"
      ]
    },
    {
      "cell_type": "code",
      "execution_count": null,
      "metadata": {
        "id": "poUjCIxg_EmE"
      },
      "outputs": [],
      "source": [
        "env = make_env()\n",
        "env.reset()\n",
        "n_actions = env.action_space.n\n",
        "obs_state_dim = env.observation_space.shape"
      ]
    },
    {
      "cell_type": "markdown",
      "metadata": {
        "id": "KmZMgSXqAD9F"
      },
      "source": [
        "😌 env.render(\"rgb_array\") returns image in the form of tensor and plt.imshow() plots the image when image is passed in the form tensor as the argument."
      ]
    },
    {
      "cell_type": "code",
      "execution_count": null,
      "metadata": {
        "colab": {
          "base_uri": "https://localhost:8080/",
          "height": 286
        },
        "id": "pHUsTmBn_4Uq",
        "outputId": "d49d0d82-3aae-44cf-a99b-a49767b53f65"
      },
      "outputs": [
        {
          "data": {
            "text/plain": [
              "<matplotlib.image.AxesImage at 0x7efca6a4c210>"
            ]
          },
          "execution_count": 16,
          "metadata": {},
          "output_type": "execute_result"
        },
        {
          "data": {
            "image/png": "[encoded data removed]",
            "text/plain": [
              "<Figure size 432x288 with 1 Axes>"
            ]
          },
          "metadata": {},
          "output_type": "display_data"
        }
      ],
      "source": [
        "plt.imshow(env.render(\"rgb_array\"))"
      ]
    },
    {
      "cell_type": "code",
      "execution_count": null,
      "metadata": {
        "id": "JuapepEx_S1Q"
      },
      "outputs": [],
      "source": [
        "for _ in range(50):\n",
        "  obs, _, _, _ = env.step(env.action_space.sample())"
      ]
    },
    {
      "cell_type": "code",
      "execution_count": null,
      "metadata": {
        "colab": {
          "base_uri": "https://localhost:8080/",
          "height": 430
        },
        "id": "iqGxDLr6AmY-",
        "outputId": "488d92c5-84f8-431a-e367-4e77ca21cd74"
      },
      "outputs": [
        {
          "data": {
            "image/png": "[encoded data removed]",
            "text/plain": [
              "<Figure size 432x288 with 1 Axes>"
            ]
          },
          "metadata": {},
          "output_type": "display_data"
        },
        {
          "data": {
            "text/plain": [
              "<matplotlib.image.AxesImage at 0x7efca69a6510>"
            ]
          },
          "execution_count": 18,
          "metadata": {},
          "output_type": "execute_result"
        },
        {
          "data": {
            "image/png": "[encoded data removed]",
            "text/plain": [
              "<Figure size 432x288 with 1 Axes>"
            ]
          },
          "metadata": {},
          "output_type": "display_data"
        }
      ],
      "source": [
        "plt.title(\"Game image\")\n",
        "plt.imshow(env.render(\"rgb_array\"))\n",
        "plt.show()\n",
        "plt.title(\"Agent observation (4 frames left to right)\")\n",
        "plt.imshow(obs.transpose([0, 2, 1]).reshape([obs_state_dim[0], -1]))"
      ]
    },
    {
      "cell_type": "markdown",
      "metadata": {
        "id": "H2QVRESVBjTq"
      },
      "source": [
        "### Building a network\n",
        "\n",
        "We now need to build a neural network that can map images to state q-values. This network will be called on every agent's step so it better not be resnet-152 unless you have an array of GPUs. Instead, you can use strided convolutions with a small number of features to save time and memory.\n",
        "\n",
        "You can build any architecture you want, but for reference, here's something that will more or less work:"
      ]
    },
    {
      "cell_type": "markdown",
      "metadata": {
        "id": "VaI_1_8xBtCo"
      },
      "source": [
        "![img](https://github.com/yandexdataschool/Practical_RL/raw/master/yet_another_week/_resource/dqn_arch.png)"
      ]
    },
    {
      "cell_type": "code",
      "execution_count": null,
      "metadata": {
        "id": "4uuP7VrtAnDS"
      },
      "outputs": [],
      "source": [
        "import tensorflow as tf\n",
        "tf.reset_default_graph()\n",
        "sess = tf.InteractiveSession()"
      ]
    },
    {
      "cell_type": "markdown",
      "metadata": {
        "id": "YOhQUBuLB0P6"
      },
      "source": [
        "❓ What is with TF Variable_scope?\n",
        "\n",
        "tf.variable_scope(name_or_scope, reuse=None, initializer=None) Returns a context for variable scope. Variable scope allows to create new variables and to share already created ones while providing checks to not create or share by accident.\n",
        "\n",
        "🔗https://stackoverflow.com/questions/35919020/whats-the-difference-of-name-scope-and-a-variable-scope-in-tensorflow"
      ]
    },
    {
      "cell_type": "code",
      "execution_count": null,
      "metadata": {
        "colab": {
          "base_uri": "https://localhost:8080/"
        },
        "id": "L4PoAfrdRJgk",
        "outputId": "d3580c86-71a1-4e0b-aa25-4d373bb62b7c"
      },
      "outputs": [
        {
          "name": "stderr",
          "output_type": "stream",
          "text": [
            "Using TensorFlow backend.\n"
          ]
        }
      ],
      "source": [
        "from keras.layers import Conv2D, Dense, Flatten, InputLayer\n",
        "import keras"
      ]
    },
    {
      "cell_type": "code",
      "execution_count": null,
      "metadata": {
        "id": "BUUhDH29daAk"
      },
      "outputs": [],
      "source": [
        "class DQNAgent:\n",
        "    def __init__(self, name, state_shape, n_actions, epsilon=0, reuse=False):\n",
        "        \"\"\"A simple DQN agent\"\"\"\n",
        "        with tf.variable_scope(name, reuse=reuse):\n",
        "            \n",
        "            # < Define your network body here. Please make sure you don't use any layers created elsewhere >\n",
        "            self.network = keras.models.Sequential()\n",
        "    \n",
        "            # Keras ignores the first dimension in the input_shape, which is the batch size. \n",
        "            # So just use state_shape for the input shape\n",
        "            self.network.add(Conv2D(16, (3, 3), strides=2, activation='relu', input_shape=state_shape))\n",
        "            self.network.add(Conv2D(32, (3, 3), strides=2, activation='relu'))\n",
        "            self.network.add(Conv2D(64, (3, 3), strides=2, activation='relu'))\n",
        "            self.network.add(Flatten())\n",
        "            self.network.add(Dense(256, activation='relu'))\n",
        "            self.network.add(Dense(n_actions, activation='linear'))\n",
        "            \n",
        "            # prepare a graph for agent step\n",
        "            self.state_t = tf.placeholder('float32', [None,] + list(state_shape))\n",
        "            self.qvalues_t = self.get_symbolic_qvalues(self.state_t)\n",
        "            \n",
        "        self.weights = tf.get_collection(tf.GraphKeys.TRAINABLE_VARIABLES, scope=name)\n",
        "        self.epsilon = epsilon\n",
        "\n",
        "    def get_symbolic_qvalues(self, state_t):\n",
        "        \"\"\"takes agent's observation, returns qvalues. Both are tf Tensors\"\"\"\n",
        "        \n",
        "        qvalues = self.network(state_t)\n",
        "        \n",
        "        \n",
        "        assert tf.is_numeric_tensor(qvalues) and qvalues.shape.ndims == 2, \\\n",
        "            \"please return 2d tf tensor of qvalues [you got %s]\" % repr(qvalues)\n",
        "        assert int(qvalues.shape[1]) == n_actions\n",
        "        \n",
        "        return qvalues\n",
        "    \n",
        "    def get_qvalues(self, state_t):\n",
        "        \"\"\"Same as symbolic step except it operates on numpy arrays\"\"\"\n",
        "        sess = tf.get_default_session()\n",
        "        return sess.run(self.qvalues_t, {self.state_t: state_t})\n",
        "    \n",
        "    def sample_actions(self, qvalues):\n",
        "        \"\"\"pick actions given qvalues. Uses epsilon-greedy exploration strategy. \"\"\"\n",
        "        epsilon = self.epsilon\n",
        "        batch_size, n_actions = qvalues.shape\n",
        "        random_actions = np.random.choice(n_actions, size=batch_size)\n",
        "        best_actions = qvalues.argmax(axis=-1)\n",
        "        should_explore = np.random.choice([0, 1], batch_size, p = [1-epsilon, epsilon])\n",
        "        return np.where(should_explore, random_actions, best_actions)"
      ]
    },
    {
      "cell_type": "code",
      "execution_count": null,
      "metadata": {
        "colab": {
          "base_uri": "https://localhost:8080/"
        },
        "id": "dD0L9MPTdg2h",
        "outputId": "9a501546-ce91-4771-d893-40af43ec8a65"
      },
      "outputs": [
        {
          "name": "stdout",
          "output_type": "stream",
          "text": [
            "WARNING:tensorflow:From /tensorflow-1.15.2/python3.7/tensorflow_core/python/ops/resource_variable_ops.py:1630: calling BaseResourceVariable.__init__ (from tensorflow.python.ops.resource_variable_ops) with constraint is deprecated and will be removed in a future version.\n",
            "Instructions for updating:\n",
            "If using Keras pass *_constraint arguments to layers.\n"
          ]
        }
      ],
      "source": [
        "agent = DQNAgent(\"dqn_agent\", obs_state_dim, n_actions, epsilon=0.5)\n",
        "sess.run(tf.global_variables_initializer())"
      ]
    },
    {
      "cell_type": "code",
      "execution_count": null,
      "metadata": {
        "id": "3UM57vG-ds48"
      },
      "outputs": [],
      "source": [
        "def evaluate(env, agent, n_games=1, greedy=False, t_max=10000):\n",
        "    \"\"\" Plays n_games full games. If greedy, picks actions as argmax(qvalues). Returns mean reward. \"\"\"\n",
        "    rewards = []\n",
        "    for _ in range(n_games):\n",
        "        s = env.reset()\n",
        "        reward = 0\n",
        "        for _ in range(t_max):\n",
        "            qvalues = agent.get_qvalues([s])\n",
        "            action = qvalues.argmax(axis=-1)[0] if greedy else agent.sample_actions(qvalues)[0]\n",
        "            s, r, done, _ = env.step(action)\n",
        "            reward += r\n",
        "            if done:\n",
        "                break\n",
        "\n",
        "        rewards.append(reward)\n",
        "    return np.mean(rewards)"
      ]
    },
    {
      "cell_type": "code",
      "execution_count": null,
      "metadata": {
        "colab": {
          "base_uri": "https://localhost:8080/"
        },
        "id": "xEh3vlpheo92",
        "outputId": "cc566465-0021-45ed-9591-7b8ff42ffb75"
      },
      "outputs": [
        {
          "data": {
            "text/plain": [
              "4.0"
            ]
          },
          "execution_count": 24,
          "metadata": {},
          "output_type": "execute_result"
        }
      ],
      "source": [
        "evaluate(env, agent, n_games=1)"
      ]
    },
    {
      "cell_type": "markdown",
      "metadata": {
        "id": "PF-v7-sje5p1"
      },
      "source": [
        "### Experience replay\n",
        "\n",
        "![img](https://github.com/yandexdataschool/Practical_RL/raw/master/yet_another_week/_resource/exp_replay.png)"
      ]
    },
    {
      "cell_type": "code",
      "execution_count": null,
      "metadata": {
        "id": "47Gxum0yh3RP"
      },
      "outputs": [],
      "source": [
        "import random\n",
        "from collections import deque"
      ]
    },
    {
      "cell_type": "code",
      "execution_count": null,
      "metadata": {
        "id": "_lZ4xQnaerNE"
      },
      "outputs": [],
      "source": [
        "class ReplayBuffer(object):\n",
        "    def __init__(self, size):\n",
        "        \"\"\"\n",
        "        Create Replay buffer.\n",
        "        Parameters\n",
        "        ----------\n",
        "        size: int\n",
        "            Max number of transitions to store in the buffer. When the buffer\n",
        "            overflows the old memories are dropped.\n",
        "\n",
        "        Note: for this assignment you can pick any data structure you want.\n",
        "              If you want to keep it simple, you can store a list of tuples of (s, a, r, s') in self._storage\n",
        "              However you may find out there are faster and/or more memory-efficient ways to do so.\n",
        "        \"\"\"\n",
        "        self._storage = deque([])\n",
        "        self._maxsize = size\n",
        "\n",
        "        # OPTIONAL: YOUR CODE\n",
        "\n",
        "    def __len__(self):\n",
        "        return len(self._storage)\n",
        "\n",
        "    def add(self, obs_t, action, reward, obs_tp1, done):\n",
        "        '''\n",
        "        Make sure, _storage will not exceed _maxsize. \n",
        "        Make sure, FIFO rule is being followed: the oldest examples has to be removed earlier\n",
        "        '''\n",
        "        data = (obs_t, action, reward, obs_tp1, done)\n",
        "        self._storage.append(data)\n",
        "\n",
        "        # add data to storage\n",
        "        if(self.__len__() > self._maxsize):\n",
        "          self._storage.popleft()\n",
        "\n",
        "    def sample(self, batch_size):\n",
        "        \"\"\"Sample a batch of experiences.\n",
        "        Parameters\n",
        "        ----------\n",
        "        batch_size: int\n",
        "            How many transitions to sample.\n",
        "        Returns\n",
        "        -------\n",
        "        obs_batch: np.array\n",
        "            batch of observations\n",
        "        act_batch: np.array\n",
        "            batch of actions executed given obs_batch\n",
        "        rew_batch: np.array\n",
        "            rewards received as results of executing act_batch\n",
        "        next_obs_batch: np.array\n",
        "            next set of observations seen after executing act_batch\n",
        "        done_mask: np.array\n",
        "            done_mask[i] = 1 if executing act_batch[i] resulted in\n",
        "            the end of an episode and 0 otherwise.\n",
        "        \"\"\"\n",
        "        #indxes = <YOUR CODE: randomly generate batch_size integers to be used as indexes of samples>\n",
        "        trajectory_numbers = [np.random.choice(range(self.__len__())) for t in range(batch_size)]\n",
        "\n",
        "        # collect <s,a,r,s',done> for each index\n",
        "        obs_batch = []\n",
        "        action_batch = []\n",
        "        reward_batch = []\n",
        "        next_obs_batch = []\n",
        "        done_batch = []\n",
        "\n",
        "        for i in trajectory_numbers:\n",
        "          obs_batch.append(self._storage[i][0])#storage is a list of tuples, each tuple being(s,a,r,s',done).Each tuple is a trajectory and storage is a collection of sequential trajectories\n",
        "          action_batch.append(self._storage[i][1])\n",
        "          reward_batch.append(self._storage[i][2])\n",
        "          next_obs_batch.append(self._storage[i][3])\n",
        "          done_batch.append(self._storage[i][4])\n",
        "\n",
        "        return (\n",
        "            np.array( obs_batch ),\n",
        "            np.array( action_batch ),\n",
        "            np.array( reward_batch ),\n",
        "            np.array( next_obs_batch ),\n",
        "            np.array( done_batch),\n",
        "        )"
      ]
    },
    {
      "cell_type": "code",
      "execution_count": null,
      "metadata": {
        "id": "3guHEC2MfvVQ"
      },
      "outputs": [],
      "source": [
        "#make object of type ReplayBuffer\n",
        "exp_replay = ReplayBuffer(10)#max size of buffer is 10\n",
        "\n",
        "for _ in range(30):#sample 30 trajectories\n",
        "  exp_replay.add(env.reset(), env.action_space.sample(), 1.0, env.reset(), done=False)#We are randomly adding obs_states and next_obs_states using env.reset()\n",
        "\n",
        "obs_batch, action_batch, reward_batch, next_obs_batch, is_done_batch = exp_replay.sample(5)#batch size is 5 i.e each batch has information of 5 trajectories randomly sampled from buffer\n",
        "\n",
        "assert len(exp_replay) == 10, \"experience replay size should be 10 because that's what maximum capacity is\""
      ]
    },
    {
      "cell_type": "code",
      "execution_count": null,
      "metadata": {
        "id": "atgtBbdX_vbm"
      },
      "outputs": [],
      "source": [
        "def play_and_record(agent, env, exp_replay, n_steps=1):\n",
        "    \"\"\"\n",
        "    Play the game for exactly n steps, record every (s,a,r,s', done) to replay buffer. \n",
        "    Whenever game ends, add record with done=True and reset the game.\n",
        "    It is guaranteed that env has done=False when passed to this function.\n",
        "\n",
        "    PLEASE DO NOT RESET ENV UNLESS IT IS \"DONE\"\n",
        "\n",
        "    :returns: return sum of rewards over time\n",
        "    \"\"\"\n",
        "    # initial state\n",
        "    s = env.framebuffer\n",
        "\n",
        "    # Play the game for n_steps as per instructions above\n",
        "    reward = 0.0\n",
        "    for t in range(n_steps):#n_steps are time steps\n",
        "      # get agent to pick action given state s\n",
        "      qvalues = agent.get_qvalues([s])\n",
        "      action = agent.sample_actions(qvalues)[0]\n",
        "      \n",
        "      next_s, r, done, _ = env.step(action)\n",
        "\n",
        "\n",
        "      #add to replay buffer\n",
        "      exp_replay.add(s, action, r, next_s, done)\n",
        "\n",
        "      reward += r\n",
        "      if done:\n",
        "        s = env.reset()\n",
        "\n",
        "      else:\n",
        "        s = next_s\n",
        "    return reward"
      ]
    },
    {
      "cell_type": "code",
      "execution_count": null,
      "metadata": {
        "colab": {
          "base_uri": "https://localhost:8080/"
        },
        "id": "wsouU6i7iToz",
        "outputId": "15d16fb2-0ea6-41f7-bbd6-a320214f1636"
      },
      "outputs": [
        {
          "name": "stdout",
          "output_type": "stream",
          "text": [
            "Well done!\n"
          ]
        }
      ],
      "source": [
        "# testing your code. This may take a minute...\n",
        "exp_replay = ReplayBuffer(20000)\n",
        "\n",
        "play_and_record(agent, env, exp_replay, n_steps=10000)\n",
        "\n",
        "# if you're using your own experience replay buffer, some of those tests may need correction.\n",
        "# just make sure you know what your code does\n",
        "assert len(exp_replay) == 10000, (\n",
        "    \"play_and_record should have added exactly 10000 steps, \" +\n",
        "    \"but instead added %i\") % len(exp_replay)\n",
        "is_dones = list(zip(*exp_replay._storage))[-1]\n",
        "\n",
        "assert 0 < np.mean(is_dones) < 0.1, (\n",
        "    \"Please make sure you restart the game whenever it is 'done' \" +\n",
        "    \"and record the is_done correctly into the buffer.\" +\n",
        "    \"Got %f is_done rate over %i steps. [If you think it's your tough luck, just re-run the test]\"\n",
        ") % (np.mean(is_dones), len(exp_replay))\n",
        "\n",
        "for _ in range(100):\n",
        "    obs_batch, act_batch, reward_batch, next_obs_batch, is_done_batch = exp_replay.sample(\n",
        "        10)\n",
        "    assert obs_batch.shape == next_obs_batch.shape == (10,) + obs_state_dim\n",
        "    assert act_batch.shape == (10,), \"actions batch should have shape (10,) but is instead %s\" % str(act_batch.shape)\n",
        "    assert reward_batch.shape == (10,), \"rewards batch should have shape (10,) but is instead %s\" % str(reward_batch.shape)\n",
        "    assert is_done_batch.shape == (10,), \"is_done batch should have shape (10,) but is instead %s\" % str(is_done_batch.shape)\n",
        "    assert [int(i) in (0, 1) for i in is_dones], \"is_done should be strictly True or False\"\n",
        "    assert [0 <= a <= n_actions for a in act_batch], \"actions should be within [0, n_actions]\"\n",
        "\n",
        "print(\"Well done!\")"
      ]
    },
    {
      "cell_type": "markdown",
      "metadata": {
        "id": "c2mhaAk0iyuL"
      },
      "source": [
        "###### Target networks\n",
        "\n",
        "We also employ the so called \"target network\" - a copy of neural network weights to be used for reference Q-values:\n",
        "\n",
        "The network itself is an exact copy of agent network, but it's parameters are not trained. Instead, they are moved here from agent's actual network every so often.\n",
        "\n",
        "$$ Q_{reference}(s,a) = r + \\gamma \\cdot \\max _{a'} Q_{target}(s',a') $$\n",
        "\n",
        "![img](https://github.com/yandexdataschool/Practical_RL/raw/master/yet_another_week/_resource/target_net.png)\n",
        "\n"
      ]
    },
    {
      "cell_type": "code",
      "execution_count": null,
      "metadata": {
        "id": "nwCI6WRqi2qU"
      },
      "outputs": [],
      "source": [
        "target_network = DQNAgent(\"target_network\", obs_state_dim, n_actions)#first parameter defines the name of the variable scope for DQNAgent"
      ]
    },
    {
      "cell_type": "markdown",
      "metadata": {
        "id": "HAtRPXMvkw_8"
      },
      "source": [
        "😌 tf.assign(ref, value, validate_shape)\n",
        "\n",
        "ref is a variable tensor, value is a tensor which is to be assigned to the ref tensor. validate_shape is a bool which if true he operation will validate that the shape of 'value' matches the shape of the Tensor being assigned to. If false, 'ref' will take on the shape of 'value'.\n",
        "\n",
        "It returns A Tensor that will hold the new value of 'ref' after the assignment has completed.\n"
      ]
    },
    {
      "cell_type": "code",
      "execution_count": null,
      "metadata": {
        "id": "YalakCAvjT3D"
      },
      "outputs": [],
      "source": [
        "def load_weigths_into_target_network(agent, target_network):\n",
        "    \"\"\" assign target_network.weights variables to their respective agent.weights values. \"\"\"\n",
        "    assigns = []\n",
        "    for w_agent, w_target in zip(agent.weights, target_network.weights):\n",
        "        assigns.append(tf.assign(w_target, w_agent, validate_shape=True))\n",
        "    # tf.get_default_session().run(assigns)\n",
        "    return assigns"
      ]
    },
    {
      "cell_type": "markdown",
      "metadata": {
        "id": "SwTWsKwUmBNu"
      },
      "source": [
        "😌zip(*iterables) --> zip object\n",
        "\n",
        "Return a zip object whose . __next__() method returns a tuple where\n",
        "the i-th element comes from the i-th iterable argument.  The .__next__()\n",
        "method continues until the shortest iterable in the argument sequence\n",
        "is exhausted and then it raises StopIteration."
      ]
    },
    {
      "cell_type": "markdown",
      "metadata": {
        "id": "LkA86ip_nD0a"
      },
      "source": [
        "😌def run(fetches, feed_dict = None)\n",
        "\n",
        "Runs operations and evaluates tensors in fetches.\n",
        "\n",
        "\n",
        "The optional feed_dict argument allows the caller to override\n",
        "the value of tensors in the graph. Each key in feed_dict can be\n",
        "a tf.Tensor or tf.SparseTensor ."
      ]
    },
    {
      "cell_type": "code",
      "execution_count": null,
      "metadata": {
        "id": "T-62edEdlfZd"
      },
      "outputs": [],
      "source": [
        "# create the tf copy graph only once.\n",
        "copy_step = load_weights_into_target_network(agent, target_network)\n",
        "sess.run(copy_step)"
      ]
    },
    {
      "cell_type": "code",
      "execution_count": null,
      "metadata": {
        "colab": {
          "base_uri": "https://localhost:8080/"
        },
        "id": "eYbcQsCwnK_n",
        "outputId": "abc23f9c-9c5c-4078-872c-94d343b018ce"
      },
      "outputs": [
        {
          "name": "stdout",
          "output_type": "stream",
          "text": [
            "It works!\n"
          ]
        }
      ],
      "source": [
        "# check that it works\n",
        "sess.run([tf.assert_equal(w,w_target) for w,w_target in zip(agent.weights, target_network.weights)])\n",
        "print(\"It works!\")"
      ]
    },
    {
      "cell_type": "markdown",
      "metadata": {
        "id": "bA2d6JcgngNg"
      },
      "source": [
        "### Learning with... Q-learning\n",
        "Here we write a function similar to `agent.update` from tabular q-learning."
      ]
    },
    {
      "cell_type": "markdown",
      "metadata": {
        "id": "0kPp_Na_oCP7"
      },
      "source": [
        "😌def placeholder(dtype, shape=None, name=None)\n",
        "\n",
        "Inserts a placeholder for a tensor that will be always fed."
      ]
    },
    {
      "cell_type": "code",
      "execution_count": null,
      "metadata": {
        "id": "Jg6rJF_ZnVAf"
      },
      "outputs": [],
      "source": [
        "# placeholders that will be fed with exp_replay.sample(batch_size)\n",
        "obs_ph = tf.placeholder(tf.float32, shape=(None,) + obs_state_dim)\n",
        "actions_ph = tf.placeholder(tf.int32, shape=[None])\n",
        "rewards_ph = tf.placeholder(tf.float32, shape=[None])\n",
        "next_obs_ph = tf.placeholder(tf.float32, shape=(None,) + obs_state_dim)\n",
        "is_done_ph = tf.placeholder(tf.float32, shape=[None])"
      ]
    },
    {
      "cell_type": "code",
      "execution_count": null,
      "metadata": {
        "id": "kf_0YL5uo9cp"
      },
      "outputs": [],
      "source": [
        "is_not_done = 1 - is_done_ph\n",
        "gamma = 0.99"
      ]
    },
    {
      "cell_type": "code",
      "execution_count": null,
      "metadata": {
        "id": "AqJQaluppDnh"
      },
      "outputs": [],
      "source": [
        "current_qvalues = agent.get_symbolic_qvalues(obs_ph)#takes agent's observation, returns qvalues. Both are tf Tensors\n",
        "current_action_qvalues = tf.reduce_sum(tf.one_hot(actions_ph, n_actions) * current_qvalues, axis = 1)"
      ]
    },
    {
      "cell_type": "code",
      "execution_count": null,
      "metadata": {
        "colab": {
          "base_uri": "https://localhost:8080/"
        },
        "id": "ZpqJIy0pp14C",
        "outputId": "81a5dec2-3eaa-4472-a3af-5e49458a7d6d"
      },
      "outputs": [
        {
          "name": "stdout",
          "output_type": "stream",
          "text": [
            "WARNING:tensorflow:From /tensorflow-1.15.2/python3.7/tensorflow_core/python/ops/math_grad.py:1375: where (from tensorflow.python.ops.array_ops) is deprecated and will be removed in a future version.\n",
            "Instructions for updating:\n",
            "Use tf.where in 2.0, which has the same broadcast rule as np.where\n"
          ]
        }
      ],
      "source": [
        "next_qvalues_target = target_network.get_symbolic_qvalues(next_obs_ph)#get_symbolic_qvalues() acts as predict() as such outputs tensor of action values for a given state and for all actions\n",
        "next_state_values_target = tf.reduce_max(next_qvalues_target)\n",
        "reference_qvalues = rewards_ph + gamma * next_state_values_target*is_not_done\n",
        "\n",
        "# Define loss function for sgd\n",
        "td_loss = (current_action_qvalues - reference_qvalues)**2#here td_loss is a tensor\n",
        "td_loss = tf.reduce_mean(td_loss)#here mean td_loss obtained from td_loss tensor\n",
        "\n",
        "train_step = tf.train.AdamOptimizer(1e-3).minimize(td_loss, var_list = agent.weights)"
      ]
    },
    {
      "cell_type": "markdown",
      "metadata": {
        "id": "53fd4lpltGP6"
      },
      "source": [
        "😌 def global_variables_initializer()\n",
        "\n",
        "Returns an Op that initializes global variables in the graph."
      ]
    },
    {
      "cell_type": "code",
      "execution_count": null,
      "metadata": {
        "id": "wZUSGf2pryMl"
      },
      "outputs": [],
      "source": [
        "sess.run(tf.global_variables_initializer())"
      ]
    },
    {
      "cell_type": "code",
      "execution_count": null,
      "metadata": {
        "colab": {
          "base_uri": "https://localhost:8080/"
        },
        "id": "Rs8Uk5FGtN3Q",
        "outputId": "cc3c9fc3-46b6-4877-bdf0-001c0bd5745b"
      },
      "outputs": [
        {
          "name": "stdout",
          "output_type": "stream",
          "text": [
            "Splendid!\n"
          ]
        }
      ],
      "source": [
        "for chk_grad in tf.gradients(reference_qvalues, agent.weights):\n",
        "    error_msg = \"Reference q-values should have no gradient w.r.t. agent weights. Make sure you used target_network qvalues! \"\n",
        "    error_msg += \"If you know what you're doing, ignore this assert.\"\n",
        "    assert chk_grad is None or np.allclose(sess.run(chk_grad), sess.run(chk_grad * 0)), error_msg\n",
        "\n",
        "assert tf.gradients(reference_qvalues, is_not_done)[0] is not None, \"make sure you used is_not_done\"\n",
        "assert tf.gradients(reference_qvalues, rewards_ph)[0] is not None, \"make sure you used rewards\"\n",
        "assert tf.gradients(reference_qvalues, next_obs_ph)[0] is not None, \"make sure you used next states\"\n",
        "assert tf.gradients(reference_qvalues, obs_ph)[0] is None, \"reference qvalues shouldn't depend on current observation!\"  # ignore if you're certain it's ok\n",
        "print(\"Splendid!\")"
      ]
    },
    {
      "cell_type": "markdown",
      "metadata": {
        "id": "4xE5oB3BtYJD"
      },
      "source": [
        "### Main loop\n",
        "\n",
        "It's time to put everything together and see if it learns anything."
      ]
    },
    {
      "cell_type": "code",
      "execution_count": null,
      "metadata": {
        "id": "_ebq7euntU2V"
      },
      "outputs": [],
      "source": [
        "from tqdm import trange\n",
        "import pandas as pd\n",
        "from IPython.display import clear_output\n",
        "import matplotlib.pyplot as plt\n",
        "%matplotlib inline"
      ]
    },
    {
      "cell_type": "code",
      "execution_count": null,
      "metadata": {
        "id": "wBDIML05tfcU"
      },
      "outputs": [],
      "source": [
        "mean_rw_history = []\n",
        "td_loss_history = []"
      ]
    },
    {
      "cell_type": "code",
      "execution_count": null,
      "metadata": {
        "id": "W1agkkwFyBbO"
      },
      "outputs": [],
      "source": [
        "def moving_average(x, span=100, **kw):\n",
        "    return pd.DataFrame({'x': np.asarray(x)}).x.ewm(span=span, **kw).mean().values"
      ]
    },
    {
      "cell_type": "code",
      "execution_count": null,
      "metadata": {
        "id": "yyGuSUFJtpcE"
      },
      "outputs": [],
      "source": [
        "exp_replay = ReplayBuffer(10**5)#maximum size of buffer = 50\n",
        "play_and_record(agent, env, exp_replay, n_steps = 10000)\n",
        "\n",
        "def sample_batch(exp_replay, batch_size):\n",
        "  obs_batch, act_batch, reward_batch, next_obs_batch, is_done_batch = exp_replay.sample(batch_size)\n",
        "  return\n",
        "  {\n",
        "      obs_ph:obs_batch, action_ph:act_batch, rewards_ph:reward_batch,\n",
        "      next_obs_ph:next_obs_batch, is_done_ph:is_done_batch\n",
        "  }"
      ]
    },
    {
      "cell_type": "code",
      "execution_count": null,
      "metadata": {
        "id": "ddxFf6IZxo09"
      },
      "outputs": [],
      "source": [
        "exp_replay = ReplayBuffer(10**5)\n",
        "play_and_record(agent, env, exp_replay, n_steps=10000)\n",
        "\n",
        "\n",
        "def sample_batch(exp_replay, batch_size):\n",
        "    obs_batch, act_batch, reward_batch, next_obs_batch, is_done_batch = exp_replay.sample(batch_size)\n",
        "    return {\n",
        "        obs_ph: obs_batch,\n",
        "        actions_ph: act_batch,\n",
        "        rewards_ph: reward_batch,\n",
        "        next_obs_ph: next_obs_batch,\n",
        "        is_done_ph: is_done_batch,\n",
        "    }"
      ]
    },
    {
      "cell_type": "code",
      "execution_count": null,
      "metadata": {
        "colab": {
          "background_save": true,
          "base_uri": "https://localhost:8080/",
          "height": 580
        },
        "id": "MRQGW4lou8w-",
        "outputId": "bf32194c-fe65-4fce-c26e-e7069ecd3a4c"
      },
      "outputs": [
        {
          "data": {
            "image/png": "[encoded data removed]",
            "text/plain": [
              "<Figure size 432x288 with 1 Axes>"
            ]
          },
          "metadata": {},
          "output_type": "display_data"
        },
        {
          "data": {
            "image/png": "[encoded data removed]",
            "text/plain": [
              "<Figure size 864x288 with 1 Axes>"
            ]
          },
          "metadata": {},
          "output_type": "display_data"
        },
        {
          "name": "stderr",
          "output_type": "stream",
          "text": [
            " 12%|█▏        | 11802/100000 [2:30:00<24:55:52,  1.02s/it]"
          ]
        }
      ],
      "source": [
        "for i in trange(10**5):\n",
        "    # play\n",
        "    play_and_record(agent, env, exp_replay, 10)\n",
        "\n",
        "    # train\n",
        "    _, loss_t = sess.run([train_step, td_loss], sample_batch(exp_replay, batch_size=64))\n",
        "    td_loss_history.append(loss_t)\n",
        "\n",
        "    # adjust agent parameters\n",
        "    if i % 500 == 0:\n",
        "        # You could think that loading weights onto a target network is simply\n",
        "        #     load_weigths_into_target_network(agent, target_network)\n",
        "        # but actually calling this function repeatedly creates a TF copy operator\n",
        "        # again and again, which bloats memory consumption with each training step.\n",
        "        # Instead, you should create 'copy_step' once.\n",
        "        sess.run(copy_step)\n",
        "        agent.epsilon = max(agent.epsilon * 0.99, 0.01)\n",
        "        mean_rw_history.append(evaluate(make_env(), agent, n_games=3))\n",
        "\n",
        "    if i % 100 == 0:\n",
        "        clear_output(True)\n",
        "        print(\"buffer size = %i, epsilon = %.5f\" % (len(exp_replay), agent.epsilon))\n",
        "\n",
        "        plt.subplot(1, 2, 1)\n",
        "        plt.title(\"mean reward per game\")\n",
        "        plt.plot(mean_rw_history)\n",
        "        plt.grid()\n",
        "\n",
        "        assert not np.isnan(loss_t)\n",
        "        plt.figure(figsize=[12, 4])\n",
        "        plt.subplot(1, 2, 2)\n",
        "        plt.title(\"TD loss history (moving average)\")\n",
        "        plt.plot(moving_average(np.array(td_loss_history), span=100, min_periods=100))\n",
        "        plt.grid()\n",
        "        plt.show()"
      ]
    }
  ],
  "metadata": {
    "colab": {
      "provenance": []
    },
    "kernelspec": {
      "display_name": "Python 3",
      "name": "python3"
    },
    "language_info": {
      "name": "python"
    }
  },
  "nbformat": 4,
  "nbformat_minor": 0
}